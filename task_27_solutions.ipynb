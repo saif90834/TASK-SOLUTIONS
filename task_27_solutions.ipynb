{
  "nbformat": 4,
  "nbformat_minor": 0,
  "metadata": {
    "colab": {
      "provenance": [],
      "include_colab_link": true
    },
    "kernelspec": {
      "name": "python3",
      "display_name": "Python 3"
    },
    "language_info": {
      "name": "python"
    }
  },
  "cells": [
    {
      "cell_type": "markdown",
      "metadata": {
        "id": "view-in-github",
        "colab_type": "text"
      },
      "source": [
        "<a href=\"https://colab.research.google.com/github/saif90834/TASK-SOLUTIONS/blob/main/task_27_solutions.ipynb\" target=\"_parent\"><img src=\"https://colab.research.google.com/assets/colab-badge.svg\" alt=\"Open In Colab\"/></a>"
      ]
    },
    {
      "cell_type": "code",
      "execution_count": null,
      "metadata": {
        "id": "cY_pbpMg8T2g"
      },
      "outputs": [],
      "source": [
        "import pandas as pd\n",
        "import requests\n",
        "from io import StringIO"
      ]
    },
    {
      "cell_type": "markdown",
      "source": [
        "### Problem-1:\n",
        "\n",
        "You are given a SQL file link: https://drive.google.com/file/d/1WFt7B84LTHhMueoKmz8W-PRo7xXqmZf3/view?usp=share_link. Read the data by using the file and store it in a excel file. In this data, there are 3 tables named \"invoices\", \"order_leads\" and \"sales_sql\". So create 3 sheets to your excel file."
      ],
      "metadata": {
        "id": "REyPSoAX8YRm"
      }
    },
    {
      "cell_type": "code",
      "source": [
        "# code here\n",
        "import mysql.connector\n",
        "import pandas as pd\n",
        "\n",
        "conn = mysql.connector.connect(host=\"localhost\",user=\"root\",password=\"\",database=\"temp_db\")\n",
        "\n",
        "invoices = pd.read_sql_query('SELECT * FROM invoices',conn)\n",
        "order_lead = pd.read_sql_query('SELECT * FROM order_leads',conn)\n",
        "sales_sql = pd.read_sql_query('SELECT * FROM sales_sql',conn)\n",
        "\n",
        "\n",
        "with pd.ExcelWriter('supermarket.xlsx') as writer:\n",
        "    invoices.to_excel(writer,sheet_name=\"invoices\")\n",
        "    order_lead.to_excel(writer,sheet_name=\"order_lead\")\n",
        "    sales_sql.to_excel(writer,sheet_name=\"sales_sql\")"
      ],
      "metadata": {
        "id": "CjgZ3pDV8Xza",
        "colab": {
          "base_uri": "https://localhost:8080/"
        },
        "outputId": "6b88559f-3441-4837-8b9f-078e5cddd783"
      },
      "execution_count": null,
      "outputs": [
        {
          "output_type": "stream",
          "name": "stdout",
          "text": [
            "Looking in indexes: https://pypi.org/simple, https://us-python.pkg.dev/colab-wheels/public/simple/\n",
            "Collecting mysql.connector\n",
            "  Downloading mysql-connector-2.2.9.tar.gz (11.9 MB)\n",
            "\u001b[2K     \u001b[90m━━━━━━━━━━━━━━━━━━━━━━━━━━━━━━━━━━━━━━━━\u001b[0m \u001b[32m11.9/11.9 MB\u001b[0m \u001b[31m79.8 MB/s\u001b[0m eta \u001b[36m0:00:00\u001b[0m\n",
            "\u001b[?25h  Preparing metadata (setup.py) ... \u001b[?25l\u001b[?25hdone\n",
            "Building wheels for collected packages: mysql.connector\n",
            "  Building wheel for mysql.connector (setup.py) ... \u001b[?25l\u001b[?25hdone\n",
            "  Created wheel for mysql.connector: filename=mysql_connector-2.2.9-cp38-cp38-linux_x86_64.whl size=247965 sha256=897a6a58f1ce532548feb2e5ac2d011c6f4249e74843229071ec847ac4cecb0d\n",
            "  Stored in directory: /root/.cache/pip/wheels/57/e4/98/5feafb5c393dd2540e44b064a6f95832990d543e5b4f53ea8f\n",
            "Successfully built mysql.connector\n",
            "Installing collected packages: mysql.connector\n",
            "Successfully installed mysql.connector-2.2.9\n"
          ]
        }
      ]
    },
    {
      "cell_type": "markdown",
      "source": [
        "### Problem-2\n",
        "\n",
        "Go to the site: https://rapidapi.com/wirefreethought/api/geodb-cities. From here, you have to grab the API and have to choose proper routes to get the cities of different countries. After getting the right API, hit that API and create a dataframe of all the cities that you can get by using the API. Then store the dataframe to a SQL. If you need to create an account or have to subscribe, then do that (it has free subscription but has some limitations. Use that free subscription and modify your accordingly to get all the data).  "
      ],
      "metadata": {
        "id": "ixwn5tD08dDV"
      }
    },
    {
      "cell_type": "code",
      "source": [
        "### code here\n",
        "### Rapid API\n",
        "import requests\n",
        "\n",
        "url = \"https://wft-geo-db.p.rapidapi.com/v1/geo/adminDivisions\"\n",
        "\n",
        "headers = {\n",
        "    \"X-RapidAPI-Key\": \"b0f75c828fmsh2b0480a62ab8d23p18178ajsn3267e033ae6a\",\n",
        "    \"X-RapidAPI-Host\": \"wft-geo-db.p.rapidapi.com\"\n",
        "}\n",
        "\n",
        "response = requests.request(\"GET\", url, headers=headers)\n",
        "\n",
        "data = response.json()['data']\n",
        "links = response.json()['links']\n",
        "metadata = response.json()['metadata']"
      ],
      "metadata": {
        "id": "OMTekidj8eDA"
      },
      "execution_count": null,
      "outputs": []
    },
    {
      "cell_type": "code",
      "source": [
        "next_url = links[1]['href']"
      ],
      "metadata": {
        "id": "uAvWKEC7AK86"
      },
      "execution_count": null,
      "outputs": []
    },
    {
      "cell_type": "code",
      "source": [
        "count = metadata['totalCount']//5"
      ],
      "metadata": {
        "id": "r0zxpZpAALB0"
      },
      "execution_count": null,
      "outputs": []
    },
    {
      "cell_type": "code",
      "source": [
        "import time\n",
        "\n",
        "\n",
        "for i in range(1,count):\n",
        "\n",
        "    num_iters += 1\n",
        "\n",
        "    url = \"https://wft-geo-db.p.rapidapi.com\"\n",
        "    page = url + next_url\n",
        "\n",
        "    response = requests.request(\"GET\", page, headers=headers)\n",
        "\n",
        "    print(response.json())\n",
        "\n",
        "    links = response.json()['links']\n",
        "\n",
        "    for item in links:\n",
        "        if item['rel'] == 'next':\n",
        "            next_url = item['href']\n",
        "\n",
        "    data.extend(response.json()['data'])\n",
        "\n",
        "    time.sleep(2)\n",
        ""
      ],
      "metadata": {
        "id": "kG7a45zIALHU"
      },
      "execution_count": null,
      "outputs": []
    },
    {
      "cell_type": "code",
      "source": [
        "cities = pd.DataFrame(data)"
      ],
      "metadata": {
        "id": "zkPZ2F-tALSY"
      },
      "execution_count": null,
      "outputs": []
    },
    {
      "cell_type": "code",
      "source": [
        "import pymysql"
      ],
      "metadata": {
        "id": "6cJWaEkHAU8j"
      },
      "execution_count": null,
      "outputs": []
    },
    {
      "cell_type": "code",
      "source": [
        "from sqlalchemy import create_engine\n",
        "\n",
        "engine = create_engine(\"mysql+pymysql://root:@localhost/temp_db\")\n",
        "\n",
        "cities.to_sql(\"cities\",con=engine,if_exists='append')"
      ],
      "metadata": {
        "id": "SOFL0HZUAVCh"
      },
      "execution_count": null,
      "outputs": []
    },
    {
      "cell_type": "markdown",
      "source": [
        "### Problem 3:\n",
        "\n",
        "Go to this url: https://www.flipkart.com/search?q=smartphones. This is the url to find phones in flipkart website. You have to extract the below things:\n",
        "1. image url of the phone\n",
        "2. name of the image\n",
        "3. average ratings\n",
        "4. total ratings\n",
        "5. total reviews\n",
        "6. discounted price\n",
        "7. actual price\n",
        "\n",
        "Extract all the phones which are available in this website. So you have to use the pagination concept. **Also after requesting every page through the url, please wait for a while (minimum 2-3 seconds), otherwise your IP address can be banned to access the flipkart website later.**\n",
        "\n",
        "After collecting all the data, save that in a JSON file."
      ],
      "metadata": {
        "id": "V514SPZd8f63"
      }
    },
    {
      "cell_type": "code",
      "source": [
        "# code here\n",
        "import requests\n",
        "from bs4 import BeautifulSoup\n",
        "import time\n",
        "\n",
        "import pandas as pd\n",
        "import numpy as np"
      ],
      "metadata": {
        "id": "FGFT4kap8iwT"
      },
      "execution_count": null,
      "outputs": []
    },
    {
      "cell_type": "code",
      "source": [
        "webpage = requests.get('https://www.flipkart.com/search?q=smartphones&page=1').text"
      ],
      "metadata": {
        "id": "7nxaFdvl1Afm"
      },
      "execution_count": null,
      "outputs": []
    },
    {
      "cell_type": "code",
      "source": [
        "soup = BeautifulSoup(webpage,'lxml')"
      ],
      "metadata": {
        "id": "RuLmnEqq1JR8"
      },
      "execution_count": null,
      "outputs": []
    },
    {
      "cell_type": "code",
      "source": [
        "all_divs = soup.find_all('div', class_=\"_2kHMtA\")"
      ],
      "metadata": {
        "id": "oBsiCTvL1VN1"
      },
      "execution_count": null,
      "outputs": []
    },
    {
      "cell_type": "code",
      "source": [
        "phone_image_url = []\n",
        "phone_name = []\n",
        "phone_rating = []\n",
        "phone_num_ratings = []\n",
        "phone_price = []\n",
        "\n",
        "for phone in all_divs:\n",
        "  try:\n",
        "    phone_image_url.append(phone.find(\"img\",class_=\"_396cs4\")['src'])\n",
        "  except:\n",
        "    phone_image_url.append(np.nan)\n",
        "\n",
        "  try:\n",
        "    phone_name.append(phone.find(\"div\",class_=\"_4rR01T\").text.strip())\n",
        "  except:\n",
        "    phone_name.append(np.nan)\n",
        "\n",
        "  try:\n",
        "    phone_rating.append(phone.find(\"div\",class_=\"_3LWZlK\").text.strip())\n",
        "  except:\n",
        "    phone_rating.append(np.nan)\n",
        "\n",
        "  try:\n",
        "    phone_num_ratings.append(phone.find_all('span',class_='_2_R_DZ')[0].find_all('span')[0].find_all('span')[0].text.strip())\n",
        "  except:\n",
        "    phone_num_ratings.append(np.nan)\n",
        "\n",
        "  try:\n",
        "    phone_price.append(phone.find(\"div\",class_=\"_30jeq3 _1_WHN1\").text.strip())\n",
        "  except:\n",
        "    phone_price.append(np.nan)\n",
        "\n",
        "\n",
        "df = pd.DataFrame({'phone_name':phone_name,'phone_price':phone_price,'phone_rating':phone_rating,'phone_num_rating':phone_num_ratings,'phone_img_url':phone_image_url})\n",
        "df"
      ],
      "metadata": {
        "colab": {
          "base_uri": "https://localhost:8080/",
          "height": 802
        },
        "id": "YB1IwHWm1r4p",
        "outputId": "25f8250c-f167-4e77-9cd9-3d38770cb42d"
      },
      "execution_count": null,
      "outputs": [
        {
          "output_type": "execute_result",
          "data": {
            "text/plain": [
              "                                     phone_name phone_price phone_rating  \\\n",
              "0   Infinix HOT 20 Play (Fantasy Purple, 64 GB)      ₹8,199          4.4   \n",
              "1     Infinix HOT 20 Play (Racing Black, 64 GB)      ₹8,199          4.4   \n",
              "2     Infinix HOT 20 Play (Aurora Green, 64 GB)      ₹8,199          4.4   \n",
              "3                realme C33 (Sandy Gold, 32 GB)      ₹8,999          4.4   \n",
              "4        Infinix HOT 20 Play (Luna Blue, 64 GB)      ₹8,199          4.4   \n",
              "5                 realme C33 (Night Sea, 32 GB)      ₹8,999          4.4   \n",
              "6         vivo T1 44W (Midnight Galaxy, 128 GB)     ₹14,499          4.5   \n",
              "7              vivo T1 44W (Starry Sky, 128 GB)     ₹14,499          4.5   \n",
              "8          Infinix Smart 6 HD (Aqua Sky, 32 GB)      ₹5,599          4.4   \n",
              "9       Infinix Smart 6 HD (Origin Blue, 32 GB)      ₹5,599          4.4   \n",
              "10      Infinix Smart 6 HD (Force Black, 32 GB)      ₹5,599          4.4   \n",
              "11               vivo T1 44W (Ice Dawn, 128 GB)     ₹14,499          4.5   \n",
              "12        vivo T1 44W (Midnight Galaxy, 128 GB)     ₹15,999          4.4   \n",
              "13               realme C33 (Sandy Gold, 64 GB)      ₹9,999          4.4   \n",
              "14                realme C33 (Aqua Blue, 32 GB)      ₹8,999          4.4   \n",
              "15                realme C33 (Aqua Blue, 64 GB)      ₹9,999          4.4   \n",
              "16                realme C33 (Night Sea, 64 GB)      ₹9,999          4.4   \n",
              "17              APPLE iPhone 11 (White, 128 GB)     ₹45,999          4.6   \n",
              "18            MOTOROLA e40 (Carbon Gray, 64 GB)      ₹8,299          4.1   \n",
              "19        REDMI 9i Sport (Metallic Blue, 64 GB)      ₹7,499          4.3   \n",
              "20             vivo T1 44W (Starry Sky, 128 GB)     ₹17,999          4.3   \n",
              "21             vivo T1 44W (Starry Sky, 128 GB)     ₹15,999          4.4   \n",
              "22        vivo T1 44W (Midnight Galaxy, 128 GB)     ₹17,999          4.3   \n",
              "23           MOTOROLA G32 (Mineral Gray, 64 GB)     ₹10,499          4.2   \n",
              "\n",
              "    phone_num_rating                                      phone_img_url  \n",
              "0      5,321 Ratings  https://rukminim1.flixcart.com/image/312/312/x...  \n",
              "1      5,321 Ratings  https://rukminim1.flixcart.com/image/312/312/x...  \n",
              "2      5,321 Ratings  https://rukminim1.flixcart.com/image/312/312/x...  \n",
              "3     17,759 Ratings  https://rukminim1.flixcart.com/image/312/312/x...  \n",
              "4      5,321 Ratings  https://rukminim1.flixcart.com/image/312/312/x...  \n",
              "5     17,759 Ratings  https://rukminim1.flixcart.com/image/312/312/x...  \n",
              "6     82,233 Ratings  https://rukminim1.flixcart.com/image/312/312/l...  \n",
              "7     82,233 Ratings  https://rukminim1.flixcart.com/image/312/312/l...  \n",
              "8     19,552 Ratings  https://rukminim1.flixcart.com/image/312/312/x...  \n",
              "9     19,552 Ratings  https://rukminim1.flixcart.com/image/312/312/x...  \n",
              "10    19,552 Ratings  https://rukminim1.flixcart.com/image/312/312/x...  \n",
              "11    82,233 Ratings  https://rukminim1.flixcart.com/image/312/312/l...  \n",
              "12    48,416 Ratings  https://rukminim1.flixcart.com/image/312/312/l...  \n",
              "13    56,151 Ratings  https://rukminim1.flixcart.com/image/312/312/x...  \n",
              "14    17,759 Ratings  https://rukminim1.flixcart.com/image/312/312/x...  \n",
              "15    56,151 Ratings  https://rukminim1.flixcart.com/image/312/312/x...  \n",
              "16    56,151 Ratings  https://rukminim1.flixcart.com/image/312/312/x...  \n",
              "17  1,81,847 Ratings  https://rukminim1.flixcart.com/image/312/312/k...  \n",
              "18    66,710 Ratings  https://rukminim1.flixcart.com/image/312/312/l...  \n",
              "19  2,27,728 Ratings  https://rukminim1.flixcart.com/image/312/312/k...  \n",
              "20     5,538 Ratings  https://rukminim1.flixcart.com/image/312/312/l...  \n",
              "21    48,416 Ratings  https://rukminim1.flixcart.com/image/312/312/l...  \n",
              "22     5,538 Ratings  https://rukminim1.flixcart.com/image/312/312/l...  \n",
              "23    24,479 Ratings  https://rukminim1.flixcart.com/image/312/312/x...  "
            ],
            "text/html": [
              "\n",
              "  <div id=\"df-11aaf9da-4d43-4ee5-bdca-254c192d404b\">\n",
              "    <div class=\"colab-df-container\">\n",
              "      <div>\n",
              "<style scoped>\n",
              "    .dataframe tbody tr th:only-of-type {\n",
              "        vertical-align: middle;\n",
              "    }\n",
              "\n",
              "    .dataframe tbody tr th {\n",
              "        vertical-align: top;\n",
              "    }\n",
              "\n",
              "    .dataframe thead th {\n",
              "        text-align: right;\n",
              "    }\n",
              "</style>\n",
              "<table border=\"1\" class=\"dataframe\">\n",
              "  <thead>\n",
              "    <tr style=\"text-align: right;\">\n",
              "      <th></th>\n",
              "      <th>phone_name</th>\n",
              "      <th>phone_price</th>\n",
              "      <th>phone_rating</th>\n",
              "      <th>phone_num_rating</th>\n",
              "      <th>phone_img_url</th>\n",
              "    </tr>\n",
              "  </thead>\n",
              "  <tbody>\n",
              "    <tr>\n",
              "      <th>0</th>\n",
              "      <td>Infinix HOT 20 Play (Fantasy Purple, 64 GB)</td>\n",
              "      <td>₹8,199</td>\n",
              "      <td>4.4</td>\n",
              "      <td>5,321 Ratings</td>\n",
              "      <td>https://rukminim1.flixcart.com/image/312/312/x...</td>\n",
              "    </tr>\n",
              "    <tr>\n",
              "      <th>1</th>\n",
              "      <td>Infinix HOT 20 Play (Racing Black, 64 GB)</td>\n",
              "      <td>₹8,199</td>\n",
              "      <td>4.4</td>\n",
              "      <td>5,321 Ratings</td>\n",
              "      <td>https://rukminim1.flixcart.com/image/312/312/x...</td>\n",
              "    </tr>\n",
              "    <tr>\n",
              "      <th>2</th>\n",
              "      <td>Infinix HOT 20 Play (Aurora Green, 64 GB)</td>\n",
              "      <td>₹8,199</td>\n",
              "      <td>4.4</td>\n",
              "      <td>5,321 Ratings</td>\n",
              "      <td>https://rukminim1.flixcart.com/image/312/312/x...</td>\n",
              "    </tr>\n",
              "    <tr>\n",
              "      <th>3</th>\n",
              "      <td>realme C33 (Sandy Gold, 32 GB)</td>\n",
              "      <td>₹8,999</td>\n",
              "      <td>4.4</td>\n",
              "      <td>17,759 Ratings</td>\n",
              "      <td>https://rukminim1.flixcart.com/image/312/312/x...</td>\n",
              "    </tr>\n",
              "    <tr>\n",
              "      <th>4</th>\n",
              "      <td>Infinix HOT 20 Play (Luna Blue, 64 GB)</td>\n",
              "      <td>₹8,199</td>\n",
              "      <td>4.4</td>\n",
              "      <td>5,321 Ratings</td>\n",
              "      <td>https://rukminim1.flixcart.com/image/312/312/x...</td>\n",
              "    </tr>\n",
              "    <tr>\n",
              "      <th>5</th>\n",
              "      <td>realme C33 (Night Sea, 32 GB)</td>\n",
              "      <td>₹8,999</td>\n",
              "      <td>4.4</td>\n",
              "      <td>17,759 Ratings</td>\n",
              "      <td>https://rukminim1.flixcart.com/image/312/312/x...</td>\n",
              "    </tr>\n",
              "    <tr>\n",
              "      <th>6</th>\n",
              "      <td>vivo T1 44W (Midnight Galaxy, 128 GB)</td>\n",
              "      <td>₹14,499</td>\n",
              "      <td>4.5</td>\n",
              "      <td>82,233 Ratings</td>\n",
              "      <td>https://rukminim1.flixcart.com/image/312/312/l...</td>\n",
              "    </tr>\n",
              "    <tr>\n",
              "      <th>7</th>\n",
              "      <td>vivo T1 44W (Starry Sky, 128 GB)</td>\n",
              "      <td>₹14,499</td>\n",
              "      <td>4.5</td>\n",
              "      <td>82,233 Ratings</td>\n",
              "      <td>https://rukminim1.flixcart.com/image/312/312/l...</td>\n",
              "    </tr>\n",
              "    <tr>\n",
              "      <th>8</th>\n",
              "      <td>Infinix Smart 6 HD (Aqua Sky, 32 GB)</td>\n",
              "      <td>₹5,599</td>\n",
              "      <td>4.4</td>\n",
              "      <td>19,552 Ratings</td>\n",
              "      <td>https://rukminim1.flixcart.com/image/312/312/x...</td>\n",
              "    </tr>\n",
              "    <tr>\n",
              "      <th>9</th>\n",
              "      <td>Infinix Smart 6 HD (Origin Blue, 32 GB)</td>\n",
              "      <td>₹5,599</td>\n",
              "      <td>4.4</td>\n",
              "      <td>19,552 Ratings</td>\n",
              "      <td>https://rukminim1.flixcart.com/image/312/312/x...</td>\n",
              "    </tr>\n",
              "    <tr>\n",
              "      <th>10</th>\n",
              "      <td>Infinix Smart 6 HD (Force Black, 32 GB)</td>\n",
              "      <td>₹5,599</td>\n",
              "      <td>4.4</td>\n",
              "      <td>19,552 Ratings</td>\n",
              "      <td>https://rukminim1.flixcart.com/image/312/312/x...</td>\n",
              "    </tr>\n",
              "    <tr>\n",
              "      <th>11</th>\n",
              "      <td>vivo T1 44W (Ice Dawn, 128 GB)</td>\n",
              "      <td>₹14,499</td>\n",
              "      <td>4.5</td>\n",
              "      <td>82,233 Ratings</td>\n",
              "      <td>https://rukminim1.flixcart.com/image/312/312/l...</td>\n",
              "    </tr>\n",
              "    <tr>\n",
              "      <th>12</th>\n",
              "      <td>vivo T1 44W (Midnight Galaxy, 128 GB)</td>\n",
              "      <td>₹15,999</td>\n",
              "      <td>4.4</td>\n",
              "      <td>48,416 Ratings</td>\n",
              "      <td>https://rukminim1.flixcart.com/image/312/312/l...</td>\n",
              "    </tr>\n",
              "    <tr>\n",
              "      <th>13</th>\n",
              "      <td>realme C33 (Sandy Gold, 64 GB)</td>\n",
              "      <td>₹9,999</td>\n",
              "      <td>4.4</td>\n",
              "      <td>56,151 Ratings</td>\n",
              "      <td>https://rukminim1.flixcart.com/image/312/312/x...</td>\n",
              "    </tr>\n",
              "    <tr>\n",
              "      <th>14</th>\n",
              "      <td>realme C33 (Aqua Blue, 32 GB)</td>\n",
              "      <td>₹8,999</td>\n",
              "      <td>4.4</td>\n",
              "      <td>17,759 Ratings</td>\n",
              "      <td>https://rukminim1.flixcart.com/image/312/312/x...</td>\n",
              "    </tr>\n",
              "    <tr>\n",
              "      <th>15</th>\n",
              "      <td>realme C33 (Aqua Blue, 64 GB)</td>\n",
              "      <td>₹9,999</td>\n",
              "      <td>4.4</td>\n",
              "      <td>56,151 Ratings</td>\n",
              "      <td>https://rukminim1.flixcart.com/image/312/312/x...</td>\n",
              "    </tr>\n",
              "    <tr>\n",
              "      <th>16</th>\n",
              "      <td>realme C33 (Night Sea, 64 GB)</td>\n",
              "      <td>₹9,999</td>\n",
              "      <td>4.4</td>\n",
              "      <td>56,151 Ratings</td>\n",
              "      <td>https://rukminim1.flixcart.com/image/312/312/x...</td>\n",
              "    </tr>\n",
              "    <tr>\n",
              "      <th>17</th>\n",
              "      <td>APPLE iPhone 11 (White, 128 GB)</td>\n",
              "      <td>₹45,999</td>\n",
              "      <td>4.6</td>\n",
              "      <td>1,81,847 Ratings</td>\n",
              "      <td>https://rukminim1.flixcart.com/image/312/312/k...</td>\n",
              "    </tr>\n",
              "    <tr>\n",
              "      <th>18</th>\n",
              "      <td>MOTOROLA e40 (Carbon Gray, 64 GB)</td>\n",
              "      <td>₹8,299</td>\n",
              "      <td>4.1</td>\n",
              "      <td>66,710 Ratings</td>\n",
              "      <td>https://rukminim1.flixcart.com/image/312/312/l...</td>\n",
              "    </tr>\n",
              "    <tr>\n",
              "      <th>19</th>\n",
              "      <td>REDMI 9i Sport (Metallic Blue, 64 GB)</td>\n",
              "      <td>₹7,499</td>\n",
              "      <td>4.3</td>\n",
              "      <td>2,27,728 Ratings</td>\n",
              "      <td>https://rukminim1.flixcart.com/image/312/312/k...</td>\n",
              "    </tr>\n",
              "    <tr>\n",
              "      <th>20</th>\n",
              "      <td>vivo T1 44W (Starry Sky, 128 GB)</td>\n",
              "      <td>₹17,999</td>\n",
              "      <td>4.3</td>\n",
              "      <td>5,538 Ratings</td>\n",
              "      <td>https://rukminim1.flixcart.com/image/312/312/l...</td>\n",
              "    </tr>\n",
              "    <tr>\n",
              "      <th>21</th>\n",
              "      <td>vivo T1 44W (Starry Sky, 128 GB)</td>\n",
              "      <td>₹15,999</td>\n",
              "      <td>4.4</td>\n",
              "      <td>48,416 Ratings</td>\n",
              "      <td>https://rukminim1.flixcart.com/image/312/312/l...</td>\n",
              "    </tr>\n",
              "    <tr>\n",
              "      <th>22</th>\n",
              "      <td>vivo T1 44W (Midnight Galaxy, 128 GB)</td>\n",
              "      <td>₹17,999</td>\n",
              "      <td>4.3</td>\n",
              "      <td>5,538 Ratings</td>\n",
              "      <td>https://rukminim1.flixcart.com/image/312/312/l...</td>\n",
              "    </tr>\n",
              "    <tr>\n",
              "      <th>23</th>\n",
              "      <td>MOTOROLA G32 (Mineral Gray, 64 GB)</td>\n",
              "      <td>₹10,499</td>\n",
              "      <td>4.2</td>\n",
              "      <td>24,479 Ratings</td>\n",
              "      <td>https://rukminim1.flixcart.com/image/312/312/x...</td>\n",
              "    </tr>\n",
              "  </tbody>\n",
              "</table>\n",
              "</div>\n",
              "      <button class=\"colab-df-convert\" onclick=\"convertToInteractive('df-11aaf9da-4d43-4ee5-bdca-254c192d404b')\"\n",
              "              title=\"Convert this dataframe to an interactive table.\"\n",
              "              style=\"display:none;\">\n",
              "        \n",
              "  <svg xmlns=\"http://www.w3.org/2000/svg\" height=\"24px\"viewBox=\"0 0 24 24\"\n",
              "       width=\"24px\">\n",
              "    <path d=\"M0 0h24v24H0V0z\" fill=\"none\"/>\n",
              "    <path d=\"M18.56 5.44l.94 2.06.94-2.06 2.06-.94-2.06-.94-.94-2.06-.94 2.06-2.06.94zm-11 1L8.5 8.5l.94-2.06 2.06-.94-2.06-.94L8.5 2.5l-.94 2.06-2.06.94zm10 10l.94 2.06.94-2.06 2.06-.94-2.06-.94-.94-2.06-.94 2.06-2.06.94z\"/><path d=\"M17.41 7.96l-1.37-1.37c-.4-.4-.92-.59-1.43-.59-.52 0-1.04.2-1.43.59L10.3 9.45l-7.72 7.72c-.78.78-.78 2.05 0 2.83L4 21.41c.39.39.9.59 1.41.59.51 0 1.02-.2 1.41-.59l7.78-7.78 2.81-2.81c.8-.78.8-2.07 0-2.86zM5.41 20L4 18.59l7.72-7.72 1.47 1.35L5.41 20z\"/>\n",
              "  </svg>\n",
              "      </button>\n",
              "      \n",
              "  <style>\n",
              "    .colab-df-container {\n",
              "      display:flex;\n",
              "      flex-wrap:wrap;\n",
              "      gap: 12px;\n",
              "    }\n",
              "\n",
              "    .colab-df-convert {\n",
              "      background-color: #E8F0FE;\n",
              "      border: none;\n",
              "      border-radius: 50%;\n",
              "      cursor: pointer;\n",
              "      display: none;\n",
              "      fill: #1967D2;\n",
              "      height: 32px;\n",
              "      padding: 0 0 0 0;\n",
              "      width: 32px;\n",
              "    }\n",
              "\n",
              "    .colab-df-convert:hover {\n",
              "      background-color: #E2EBFA;\n",
              "      box-shadow: 0px 1px 2px rgba(60, 64, 67, 0.3), 0px 1px 3px 1px rgba(60, 64, 67, 0.15);\n",
              "      fill: #174EA6;\n",
              "    }\n",
              "\n",
              "    [theme=dark] .colab-df-convert {\n",
              "      background-color: #3B4455;\n",
              "      fill: #D2E3FC;\n",
              "    }\n",
              "\n",
              "    [theme=dark] .colab-df-convert:hover {\n",
              "      background-color: #434B5C;\n",
              "      box-shadow: 0px 1px 3px 1px rgba(0, 0, 0, 0.15);\n",
              "      filter: drop-shadow(0px 1px 2px rgba(0, 0, 0, 0.3));\n",
              "      fill: #FFFFFF;\n",
              "    }\n",
              "  </style>\n",
              "\n",
              "      <script>\n",
              "        const buttonEl =\n",
              "          document.querySelector('#df-11aaf9da-4d43-4ee5-bdca-254c192d404b button.colab-df-convert');\n",
              "        buttonEl.style.display =\n",
              "          google.colab.kernel.accessAllowed ? 'block' : 'none';\n",
              "\n",
              "        async function convertToInteractive(key) {\n",
              "          const element = document.querySelector('#df-11aaf9da-4d43-4ee5-bdca-254c192d404b');\n",
              "          const dataTable =\n",
              "            await google.colab.kernel.invokeFunction('convertToInteractive',\n",
              "                                                     [key], {});\n",
              "          if (!dataTable) return;\n",
              "\n",
              "          const docLinkHtml = 'Like what you see? Visit the ' +\n",
              "            '<a target=\"_blank\" href=https://colab.research.google.com/notebooks/data_table.ipynb>data table notebook</a>'\n",
              "            + ' to learn more about interactive tables.';\n",
              "          element.innerHTML = '';\n",
              "          dataTable['output_type'] = 'display_data';\n",
              "          await google.colab.output.renderOutput(dataTable, element);\n",
              "          const docLink = document.createElement('div');\n",
              "          docLink.innerHTML = docLinkHtml;\n",
              "          element.appendChild(docLink);\n",
              "        }\n",
              "      </script>\n",
              "    </div>\n",
              "  </div>\n",
              "  "
            ]
          },
          "metadata": {},
          "execution_count": 43
        }
      ]
    },
    {
      "cell_type": "code",
      "source": [
        "final_df = pd.DataFrame()\n",
        "\n",
        "for i in range(1,6):\n",
        "\n",
        "  webpage = requests.get('https://www.flipkart.com/search?q=smartphones&page={}'.format(i)).text\n",
        "  soup = BeautifulSoup(webpage,'lxml')\n",
        "  all_divs = soup.find_all('div', class_=\"_2kHMtA\")\n",
        "\n",
        "  phone_image_url = []\n",
        "  phone_name = []\n",
        "  phone_rating = []\n",
        "  phone_num_ratings = []\n",
        "  phone_price = []\n",
        "\n",
        "  for phone in all_divs:\n",
        "    try:\n",
        "      phone_image_url.append(phone.find(\"img\",class_=\"_396cs4\")['src'])\n",
        "    except:\n",
        "      phone_image_url.append(np.nan)\n",
        "\n",
        "    try:\n",
        "      phone_name.append(phone.find(\"div\",class_=\"_4rR01T\").text.strip())\n",
        "    except:\n",
        "      phone_name.append(np.nan)\n",
        "\n",
        "    try:\n",
        "      phone_rating.append(phone.find(\"div\",class_=\"_3LWZlK\").text.strip())\n",
        "    except:\n",
        "      phone_rating.append(np.nan)\n",
        "\n",
        "    try:\n",
        "      phone_num_ratings.append(phone.find_all('span',class_='_2_R_DZ')[0].find_all('span')[0].find_all('span')[0].text.strip())\n",
        "    except:\n",
        "      phone_num_ratings.append(np.nan)\n",
        "\n",
        "    try:\n",
        "      phone_price.append(phone.find(\"div\",class_=\"_30jeq3 _1_WHN1\").text.strip())\n",
        "    except:\n",
        "      phone_price.append(np.nan)\n",
        "\n",
        "\n",
        "  df = pd.DataFrame({'phone_name':phone_name,'phone_price':phone_price,'phone_rating':phone_rating,'phone_num_rating':phone_num_ratings,'phone_img_url':phone_image_url})\n",
        "  final_df = final_df.append(df)\n",
        "\n",
        "  phone_image_url.clear()\n",
        "  phone_name.clear()\n",
        "  phone_rating.clear()\n",
        "  phone_num_ratings.clear()\n",
        "  phone_price.clear()\n",
        "\n",
        "  time.sleep(2)\n"
      ],
      "metadata": {
        "id": "EUn4vZJK1tI2"
      },
      "execution_count": null,
      "outputs": []
    },
    {
      "cell_type": "code",
      "source": [
        "final_df.shape"
      ],
      "metadata": {
        "colab": {
          "base_uri": "https://localhost:8080/"
        },
        "id": "D5qfecDk2ktL",
        "outputId": "a76e9974-c829-436b-f9a5-cb7112844f6a"
      },
      "execution_count": null,
      "outputs": [
        {
          "output_type": "execute_result",
          "data": {
            "text/plain": [
              "(120, 5)"
            ]
          },
          "metadata": {},
          "execution_count": 52
        }
      ]
    },
    {
      "cell_type": "code",
      "source": [
        "df.shape"
      ],
      "metadata": {
        "colab": {
          "base_uri": "https://localhost:8080/"
        },
        "id": "ZmtQZ0197UFY",
        "outputId": "3af636dd-174c-4a38-c636-b9b0aea7112d"
      },
      "execution_count": null,
      "outputs": [
        {
          "output_type": "execute_result",
          "data": {
            "text/plain": [
              "(24, 5)"
            ]
          },
          "metadata": {},
          "execution_count": 46
        }
      ]
    },
    {
      "cell_type": "code",
      "source": [
        "final_df.isnull().sum()"
      ],
      "metadata": {
        "colab": {
          "base_uri": "https://localhost:8080/"
        },
        "id": "Fk--kVVq7X-h",
        "outputId": "72300e91-0da9-4cbe-f137-561e8c4aa506"
      },
      "execution_count": null,
      "outputs": [
        {
          "output_type": "execute_result",
          "data": {
            "text/plain": [
              "phone_name          0\n",
              "phone_price         0\n",
              "phone_rating        2\n",
              "phone_num_rating    2\n",
              "phone_img_url       0\n",
              "dtype: int64"
            ]
          },
          "metadata": {},
          "execution_count": 54
        }
      ]
    },
    {
      "cell_type": "code",
      "source": [],
      "metadata": {
        "id": "dAnzWMFf9CRH"
      },
      "execution_count": null,
      "outputs": []
    }
  ]
}