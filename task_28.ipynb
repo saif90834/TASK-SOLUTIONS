{
  "nbformat": 4,
  "nbformat_minor": 0,
  "metadata": {
    "colab": {
      "provenance": [],
      "include_colab_link": true
    },
    "kernelspec": {
      "name": "python3",
      "display_name": "Python 3"
    },
    "language_info": {
      "name": "python"
    }
  },
  "cells": [
    {
      "cell_type": "markdown",
      "metadata": {
        "id": "view-in-github",
        "colab_type": "text"
      },
      "source": [
        "<a href=\"https://colab.research.google.com/github/saif90834/TASK-SOLUTIONS/blob/main/task_28.ipynb\" target=\"_parent\"><img src=\"https://colab.research.google.com/assets/colab-badge.svg\" alt=\"Open In Colab\"/></a>"
      ]
    },
    {
      "cell_type": "markdown",
      "source": [
        "**Problem:**\n",
        "\n",
        "You are given the following dataset:\n",
        "1. **Audible Data** : https://1drv.ms/u/s!AiqdXCxPTydhoog8ckLN-6Cw55fzIg?e=EWgZ5d\n",
        "\n",
        "Your task is to:\n",
        "- Find the problems with the datasets.\n",
        "- Define the Data Quality Dimensions.\n",
        "- Try to clean the datasets."
      ],
      "metadata": {
        "id": "XEvslFhJIGJU"
      }
    },
    {
      "cell_type": "markdown",
      "source": [
        "## Problem with the dataset:\n",
        "- `name`:\n",
        "    - Some books has the version in different formats.\n",
        "        - [x] with hast-tag like \"Geronimo Stilton #11 & #12\".\n",
        "        - [x] \"Magic Tree House Collection: Books 9-16\".\n",
        "        - [x] \"The 39 Clues, Book 6\"\n",
        "    - â€™, Ã¤, Ã¼ values\n",
        "        - [x] Some rows (9, 34, 157, 162, 170...) have this strange part.\n",
        "\n",
        "\n",
        "- `author` & `narrator`:\n",
        "    - [x] Every value starts with \"Writtenby:\" e.g., \"Writtenby:GeronimoStilton\"\n",
        "    - [x] Some values represent 2 or more authors, e.g., \"Writtenby:JuliaDonaldson,AxelScheffler\"\n",
        "    - [x] Some values also have the strange part, e.g., \"Writtenby:FranciscoDÃ­azValladares\"\n",
        "    - [x] First name and the last are not separated with a white space, e.g. \"Writtenby:NicolasGorny\".\n",
        "    - [x] Some additional informations are also inclused in some values. E.g., \"Writtenby:AndrewPeterson-editor,JonathanRogers,N.D.Wilson,\"\n",
        "    - [x] There are no proper names in narrator, e.g., \"Narratedby:uncredited\".\n",
        "\n",
        "\n",
        "- `time`:\n",
        "    - [x] The values are combination of total hour and minutes, e.g., \"2 hrs and 20 mins\", \"10 hrs\", \"22 mins\"\n",
        "\n",
        "\n",
        "- `releasedate`:\n",
        "    - [x] There are 2 types entries, \"08-04-2008\" and \"13-01-10\"\n",
        "    - [x] The dtype is object, if we convert to datetime object, then the above will be resolved.\n",
        "\n",
        "\n",
        "- `language`\n",
        "    - [x] Some values are in title formed and some are in lower case, e.g. \"English\" and \"german\".\n",
        "\n",
        "\n",
        "- `stars`\n",
        "    - [x] Total ratings informations are included along with average stars, e.g. \"5 out of 5 stars34 ratings\"\n",
        "    - [x] The highest rating is 5 and lower is 1. How many avg. stargs got a book is included as long form.\n",
        "    - [x] Some empty values are represented as \"Not rated yet\". For that, we can assume total ratings = 0 and avg. ratings = 0.\n",
        "\n",
        "\n",
        "- `price`\n",
        "    - [x] There is a value, \"Free\". This also change the dtype of the column."
      ],
      "metadata": {
        "id": "2Px-Ny_BOyVk"
      }
    },
    {
      "cell_type": "code",
      "source": [
        "import numpy as np\n",
        "import pandas as pd\n",
        "\n",
        "import re"
      ],
      "metadata": {
        "id": "_5VzbCKt_5c2"
      },
      "execution_count": null,
      "outputs": []
    },
    {
      "cell_type": "code",
      "execution_count": null,
      "metadata": {
        "id": "NNulI0TZDZaP",
        "colab": {
          "base_uri": "https://localhost:8080/",
          "height": 206
        },
        "outputId": "166bd8c6-bee0-4fc5-d53e-169abd924eb6"
      },
      "outputs": [
        {
          "output_type": "execute_result",
          "data": {
            "text/plain": [
              "                                         name                     author  \\\n",
              "0                  Geronimo Stilton #11 & #12  Writtenby:GeronimoStilton   \n",
              "1                            The Burning Maze      Writtenby:RickRiordan   \n",
              "2                                The Deep End       Writtenby:JeffKinney   \n",
              "3                        Daughter of the Deep      Writtenby:RickRiordan   \n",
              "4  The Lightning Thief: Percy Jackson, Book 1      Writtenby:RickRiordan   \n",
              "\n",
              "                    narrator                time          releasedate  \\\n",
              "0      Narratedby:BillLobely   2 hrs and 20 mins  2008-04-08 00:00:00   \n",
              "1   Narratedby:RobbieDaymond   13 hrs and 8 mins  2018-01-05 00:00:00   \n",
              "2      Narratedby:DanRussell    2 hrs and 3 mins  2020-06-11 00:00:00   \n",
              "3  Narratedby:SoneelaNankani  11 hrs and 16 mins  2021-05-10 00:00:00   \n",
              "4  Narratedby:JesseBernstein              10 hrs  2010-01-13 00:00:00   \n",
              "\n",
              "  language                          stars price  \n",
              "0  English     5 out of 5 stars34 ratings   468  \n",
              "1  English   4.5 out of 5 stars41 ratings   820  \n",
              "2  English   4.5 out of 5 stars38 ratings   410  \n",
              "3  English   4.5 out of 5 stars12 ratings   615  \n",
              "4  English  4.5 out of 5 stars181 ratings   820  "
            ],
            "text/html": [
              "\n",
              "  <div id=\"df-32df508f-e99a-47c9-85bc-0175a0b28d44\">\n",
              "    <div class=\"colab-df-container\">\n",
              "      <div>\n",
              "<style scoped>\n",
              "    .dataframe tbody tr th:only-of-type {\n",
              "        vertical-align: middle;\n",
              "    }\n",
              "\n",
              "    .dataframe tbody tr th {\n",
              "        vertical-align: top;\n",
              "    }\n",
              "\n",
              "    .dataframe thead th {\n",
              "        text-align: right;\n",
              "    }\n",
              "</style>\n",
              "<table border=\"1\" class=\"dataframe\">\n",
              "  <thead>\n",
              "    <tr style=\"text-align: right;\">\n",
              "      <th></th>\n",
              "      <th>name</th>\n",
              "      <th>author</th>\n",
              "      <th>narrator</th>\n",
              "      <th>time</th>\n",
              "      <th>releasedate</th>\n",
              "      <th>language</th>\n",
              "      <th>stars</th>\n",
              "      <th>price</th>\n",
              "    </tr>\n",
              "  </thead>\n",
              "  <tbody>\n",
              "    <tr>\n",
              "      <th>0</th>\n",
              "      <td>Geronimo Stilton #11 &amp; #12</td>\n",
              "      <td>Writtenby:GeronimoStilton</td>\n",
              "      <td>Narratedby:BillLobely</td>\n",
              "      <td>2 hrs and 20 mins</td>\n",
              "      <td>2008-04-08 00:00:00</td>\n",
              "      <td>English</td>\n",
              "      <td>5 out of 5 stars34 ratings</td>\n",
              "      <td>468</td>\n",
              "    </tr>\n",
              "    <tr>\n",
              "      <th>1</th>\n",
              "      <td>The Burning Maze</td>\n",
              "      <td>Writtenby:RickRiordan</td>\n",
              "      <td>Narratedby:RobbieDaymond</td>\n",
              "      <td>13 hrs and 8 mins</td>\n",
              "      <td>2018-01-05 00:00:00</td>\n",
              "      <td>English</td>\n",
              "      <td>4.5 out of 5 stars41 ratings</td>\n",
              "      <td>820</td>\n",
              "    </tr>\n",
              "    <tr>\n",
              "      <th>2</th>\n",
              "      <td>The Deep End</td>\n",
              "      <td>Writtenby:JeffKinney</td>\n",
              "      <td>Narratedby:DanRussell</td>\n",
              "      <td>2 hrs and 3 mins</td>\n",
              "      <td>2020-06-11 00:00:00</td>\n",
              "      <td>English</td>\n",
              "      <td>4.5 out of 5 stars38 ratings</td>\n",
              "      <td>410</td>\n",
              "    </tr>\n",
              "    <tr>\n",
              "      <th>3</th>\n",
              "      <td>Daughter of the Deep</td>\n",
              "      <td>Writtenby:RickRiordan</td>\n",
              "      <td>Narratedby:SoneelaNankani</td>\n",
              "      <td>11 hrs and 16 mins</td>\n",
              "      <td>2021-05-10 00:00:00</td>\n",
              "      <td>English</td>\n",
              "      <td>4.5 out of 5 stars12 ratings</td>\n",
              "      <td>615</td>\n",
              "    </tr>\n",
              "    <tr>\n",
              "      <th>4</th>\n",
              "      <td>The Lightning Thief: Percy Jackson, Book 1</td>\n",
              "      <td>Writtenby:RickRiordan</td>\n",
              "      <td>Narratedby:JesseBernstein</td>\n",
              "      <td>10 hrs</td>\n",
              "      <td>2010-01-13 00:00:00</td>\n",
              "      <td>English</td>\n",
              "      <td>4.5 out of 5 stars181 ratings</td>\n",
              "      <td>820</td>\n",
              "    </tr>\n",
              "  </tbody>\n",
              "</table>\n",
              "</div>\n",
              "      <button class=\"colab-df-convert\" onclick=\"convertToInteractive('df-32df508f-e99a-47c9-85bc-0175a0b28d44')\"\n",
              "              title=\"Convert this dataframe to an interactive table.\"\n",
              "              style=\"display:none;\">\n",
              "        \n",
              "  <svg xmlns=\"http://www.w3.org/2000/svg\" height=\"24px\"viewBox=\"0 0 24 24\"\n",
              "       width=\"24px\">\n",
              "    <path d=\"M0 0h24v24H0V0z\" fill=\"none\"/>\n",
              "    <path d=\"M18.56 5.44l.94 2.06.94-2.06 2.06-.94-2.06-.94-.94-2.06-.94 2.06-2.06.94zm-11 1L8.5 8.5l.94-2.06 2.06-.94-2.06-.94L8.5 2.5l-.94 2.06-2.06.94zm10 10l.94 2.06.94-2.06 2.06-.94-2.06-.94-.94-2.06-.94 2.06-2.06.94z\"/><path d=\"M17.41 7.96l-1.37-1.37c-.4-.4-.92-.59-1.43-.59-.52 0-1.04.2-1.43.59L10.3 9.45l-7.72 7.72c-.78.78-.78 2.05 0 2.83L4 21.41c.39.39.9.59 1.41.59.51 0 1.02-.2 1.41-.59l7.78-7.78 2.81-2.81c.8-.78.8-2.07 0-2.86zM5.41 20L4 18.59l7.72-7.72 1.47 1.35L5.41 20z\"/>\n",
              "  </svg>\n",
              "      </button>\n",
              "      \n",
              "  <style>\n",
              "    .colab-df-container {\n",
              "      display:flex;\n",
              "      flex-wrap:wrap;\n",
              "      gap: 12px;\n",
              "    }\n",
              "\n",
              "    .colab-df-convert {\n",
              "      background-color: #E8F0FE;\n",
              "      border: none;\n",
              "      border-radius: 50%;\n",
              "      cursor: pointer;\n",
              "      display: none;\n",
              "      fill: #1967D2;\n",
              "      height: 32px;\n",
              "      padding: 0 0 0 0;\n",
              "      width: 32px;\n",
              "    }\n",
              "\n",
              "    .colab-df-convert:hover {\n",
              "      background-color: #E2EBFA;\n",
              "      box-shadow: 0px 1px 2px rgba(60, 64, 67, 0.3), 0px 1px 3px 1px rgba(60, 64, 67, 0.15);\n",
              "      fill: #174EA6;\n",
              "    }\n",
              "\n",
              "    [theme=dark] .colab-df-convert {\n",
              "      background-color: #3B4455;\n",
              "      fill: #D2E3FC;\n",
              "    }\n",
              "\n",
              "    [theme=dark] .colab-df-convert:hover {\n",
              "      background-color: #434B5C;\n",
              "      box-shadow: 0px 1px 3px 1px rgba(0, 0, 0, 0.15);\n",
              "      filter: drop-shadow(0px 1px 2px rgba(0, 0, 0, 0.3));\n",
              "      fill: #FFFFFF;\n",
              "    }\n",
              "  </style>\n",
              "\n",
              "      <script>\n",
              "        const buttonEl =\n",
              "          document.querySelector('#df-32df508f-e99a-47c9-85bc-0175a0b28d44 button.colab-df-convert');\n",
              "        buttonEl.style.display =\n",
              "          google.colab.kernel.accessAllowed ? 'block' : 'none';\n",
              "\n",
              "        async function convertToInteractive(key) {\n",
              "          const element = document.querySelector('#df-32df508f-e99a-47c9-85bc-0175a0b28d44');\n",
              "          const dataTable =\n",
              "            await google.colab.kernel.invokeFunction('convertToInteractive',\n",
              "                                                     [key], {});\n",
              "          if (!dataTable) return;\n",
              "\n",
              "          const docLinkHtml = 'Like what you see? Visit the ' +\n",
              "            '<a target=\"_blank\" href=https://colab.research.google.com/notebooks/data_table.ipynb>data table notebook</a>'\n",
              "            + ' to learn more about interactive tables.';\n",
              "          element.innerHTML = '';\n",
              "          dataTable['output_type'] = 'display_data';\n",
              "          await google.colab.output.renderOutput(dataTable, element);\n",
              "          const docLink = document.createElement('div');\n",
              "          docLink.innerHTML = docLinkHtml;\n",
              "          element.appendChild(docLink);\n",
              "        }\n",
              "      </script>\n",
              "    </div>\n",
              "  </div>\n",
              "  "
            ]
          },
          "metadata": {},
          "execution_count": 2
        }
      ],
      "source": [
        "# you can read the dataset by upload the excel file; here I am using same file's link\n",
        "df = pd.read_excel(\"https://api.onedrive.com/v1.0/shares/u!aHR0cHM6Ly8xZHJ2Lm1zL3UvcyFBaXFkWEN4UFR5ZGhvb2c4Y2tMTi02Q3c1NWZ6SWc_ZT1FV2daNWQ/root/content\")\n",
        "df.head()"
      ]
    },
    {
      "cell_type": "code",
      "source": [
        "df.info()"
      ],
      "metadata": {
        "colab": {
          "base_uri": "https://localhost:8080/"
        },
        "id": "svItQw-kATA3",
        "outputId": "7ec54aaa-20a9-4c45-ae38-b3cd38e870c9"
      },
      "execution_count": null,
      "outputs": [
        {
          "output_type": "stream",
          "name": "stdout",
          "text": [
            "<class 'pandas.core.frame.DataFrame'>\n",
            "RangeIndex: 87489 entries, 0 to 87488\n",
            "Data columns (total 8 columns):\n",
            " #   Column       Non-Null Count  Dtype \n",
            "---  ------       --------------  ----- \n",
            " 0   name         87489 non-null  object\n",
            " 1   author       87489 non-null  object\n",
            " 2   narrator     87489 non-null  object\n",
            " 3   time         87489 non-null  object\n",
            " 4   releasedate  87489 non-null  object\n",
            " 5   language     87489 non-null  object\n",
            " 6   stars        87489 non-null  object\n",
            " 7   price        87489 non-null  object\n",
            "dtypes: object(8)\n",
            "memory usage: 5.3+ MB\n"
          ]
        }
      ]
    },
    {
      "cell_type": "code",
      "source": [
        "df.head(1500).to_csv('audible.csv', index=False)"
      ],
      "metadata": {
        "id": "Pzej3kssbFoi"
      },
      "execution_count": null,
      "outputs": []
    },
    {
      "cell_type": "code",
      "source": [
        "# convert the \"releasedate\" col to datetime object\n",
        "df[\"releasedate\"] = pd.to_datetime(df[\"releasedate\"]).copy()\n",
        "# remove the value \"free\" from the col price. This will automatically\n",
        "# convert to the float values.\n",
        "df[\"price\"] = df[\"price\"].replace(\"Free\", 0).copy()"
      ],
      "metadata": {
        "id": "J-KHD8DpDU0v"
      },
      "execution_count": null,
      "outputs": []
    },
    {
      "cell_type": "code",
      "source": [
        "# now check again the dtypes\n",
        "df.info()"
      ],
      "metadata": {
        "colab": {
          "base_uri": "https://localhost:8080/"
        },
        "id": "jERFcDaoHsN-",
        "outputId": "4f23f8f5-bec6-4a01-95c2-6ef155f8d44e"
      },
      "execution_count": null,
      "outputs": [
        {
          "output_type": "stream",
          "name": "stdout",
          "text": [
            "<class 'pandas.core.frame.DataFrame'>\n",
            "RangeIndex: 87489 entries, 0 to 87488\n",
            "Data columns (total 8 columns):\n",
            " #   Column       Non-Null Count  Dtype         \n",
            "---  ------       --------------  -----         \n",
            " 0   name         87489 non-null  object        \n",
            " 1   author       87489 non-null  object        \n",
            " 2   narrator     87489 non-null  object        \n",
            " 3   time         87489 non-null  object        \n",
            " 4   releasedate  87489 non-null  datetime64[ns]\n",
            " 5   language     87489 non-null  object        \n",
            " 6   stars        87489 non-null  object        \n",
            " 7   price        87489 non-null  float64       \n",
            "dtypes: datetime64[ns](1), float64(1), object(6)\n",
            "memory usage: 5.3+ MB\n"
          ]
        }
      ]
    },
    {
      "cell_type": "code",
      "source": [
        "def find_total_ratings(text):\n",
        "    # if NaN, then return as it is\n",
        "    if pd.isna(text):\n",
        "        return text\n",
        "\n",
        "    # create the pattern to find the total ratings\n",
        "    tol_rattings_pattern = re.compile(r\"[\\d]+\\sratings\")\n",
        "    # get the result\n",
        "    result = re.findall(tol_rattings_pattern, text)\n",
        "\n",
        "    try:\n",
        "        # if we find the total ratings, then convert to int and return it\n",
        "        if len(result) > 0:\n",
        "            return int(result[0].split(\" \")[0])\n",
        "        # if it is the \"Not rated yet\", return 0\n",
        "        elif \"Not rated yet\":\n",
        "            return 0\n",
        "        # else return the value as it is\n",
        "        else:\n",
        "            return text\n",
        "    # if we got any error, also return the value as it is\n",
        "    except Exception as e:\n",
        "        print(e)\n",
        "        return text"
      ],
      "metadata": {
        "id": "rCI7Bo8XJJG_"
      },
      "execution_count": null,
      "outputs": []
    },
    {
      "cell_type": "code",
      "source": [
        "# find out the total counted ratings\n",
        "df[\"total_ratings\"] = df[\"stars\"].apply(lambda x: find_total_ratings(x))\n",
        "df[\"avg_stars\"]     = df[\"stars\"].apply(lambda x: float(x.split(\" \")[0]) if x != \"Not rated yet\" else 0)\n",
        "# now drop the \"stars\" column\n",
        "df = df.drop(columns = [\"stars\"]).copy()"
      ],
      "metadata": {
        "id": "1vg_XE2PJwI-"
      },
      "execution_count": null,
      "outputs": []
    },
    {
      "cell_type": "code",
      "source": [
        "df.info()"
      ],
      "metadata": {
        "colab": {
          "base_uri": "https://localhost:8080/"
        },
        "id": "kvbFGBznQ9ex",
        "outputId": "a769fe77-7edb-42ab-e31a-51d0a95b0e2c"
      },
      "execution_count": null,
      "outputs": [
        {
          "output_type": "stream",
          "name": "stdout",
          "text": [
            "<class 'pandas.core.frame.DataFrame'>\n",
            "RangeIndex: 87489 entries, 0 to 87488\n",
            "Data columns (total 9 columns):\n",
            " #   Column         Non-Null Count  Dtype         \n",
            "---  ------         --------------  -----         \n",
            " 0   name           87489 non-null  object        \n",
            " 1   author         87489 non-null  object        \n",
            " 2   narrator       87489 non-null  object        \n",
            " 3   time           87489 non-null  object        \n",
            " 4   releasedate    87489 non-null  datetime64[ns]\n",
            " 5   language       87489 non-null  object        \n",
            " 6   price          87489 non-null  float64       \n",
            " 7   total_ratings  87489 non-null  int64         \n",
            " 8   avg_stars      87489 non-null  float64       \n",
            "dtypes: datetime64[ns](1), float64(2), int64(1), object(5)\n",
            "memory usage: 6.0+ MB\n"
          ]
        }
      ]
    },
    {
      "cell_type": "code",
      "source": [
        "# convert the \"language\" col to titlecase\n",
        "df[\"language\"] = df[\"language\"].str.title().copy()"
      ],
      "metadata": {
        "id": "6QpMpXbYSK0w"
      },
      "execution_count": null,
      "outputs": []
    },
    {
      "cell_type": "code",
      "source": [
        "def get_total_time(text):\n",
        "    hrs = 0\n",
        "    mins = 0\n",
        "    # extract the total hours\n",
        "    if \"hrs\" in text:\n",
        "        hrs = int(text.split(\"hrs\")[0].strip())\n",
        "    # extract the total minutes\n",
        "    if \"mins\" in text:\n",
        "        is_mins = text.split(\"mins\")[0].split(\" \")\n",
        "        # if the text is combination of hours and minutes, then will get the more elements\n",
        "        if len(is_mins) > 2:\n",
        "            mins = is_mins[-2]\n",
        "        # if the text contains only minutes, e.g. \"22 mins\", then will get 2 length list\n",
        "        else:\n",
        "            mins = is_mins[0]\n",
        "        mins = int(mins.strip())\n",
        "\n",
        "    # calculate total minutes and return that\n",
        "    return hrs * 60 + mins"
      ],
      "metadata": {
        "id": "g2mglUzaUdfR"
      },
      "execution_count": null,
      "outputs": []
    },
    {
      "cell_type": "code",
      "source": [
        "# get the total time in minutes\n",
        "df[\"time\"] = df[\"time\"].apply(lambda x: get_total_time(x)).copy()"
      ],
      "metadata": {
        "id": "HtBxiGIsWRUZ"
      },
      "execution_count": null,
      "outputs": []
    },
    {
      "cell_type": "code",
      "source": [
        "# next we will remove the strange characters from the \"name\", \"author\" and \"narrator\" cols.\n",
        "# When we will do the operation, some values of \"name\" col will become to NaN. So first extract\n",
        "# those records which will become to NaN. After removing the strange values, we will replace\n",
        "# those newly created NaN values with the old ones\n",
        "nan_created_values = df[df[\"name\"].str.encode('ascii', 'ignore').isnull()]"
      ],
      "metadata": {
        "id": "IBvbTQEf_b8S"
      },
      "execution_count": null,
      "outputs": []
    },
    {
      "cell_type": "code",
      "source": [
        "# some \"narrator\" values are completly packed with strange values like this example.\n",
        "# So, while removing this strange values, the calues will convert to empty strings\n",
        "df[\"narrator\"][87192]"
      ],
      "metadata": {
        "colab": {
          "base_uri": "https://localhost:8080/",
          "height": 35
        },
        "id": "tfQJgDCiNso3",
        "outputId": "f84a6d7d-e48f-4664-c8c9-57691b896af9"
      },
      "execution_count": null,
      "outputs": [
        {
          "output_type": "execute_result",
          "data": {
            "text/plain": [
              "'Narratedby:å°\\x8fé‡Žç”°è‹±ä¸€'"
            ],
            "application/vnd.google.colaboratory.intrinsic+json": {
              "type": "string"
            }
          },
          "metadata": {},
          "execution_count": 13
        }
      ]
    },
    {
      "cell_type": "code",
      "source": [
        "# Now, remove the starnge parts from the \"name\", \"author\" and \"narrator\" columns\n",
        "df[\"name\"]     = df[\"name\"].str.encode('ascii', 'ignore').str.decode('ascii').copy()\n",
        "df[\"author\"]   = df[\"author\"].str.encode('ascii', 'ignore').str.decode('ascii').copy()\n",
        "df[\"narrator\"] = df[\"narrator\"].str.encode('ascii', 'ignore').str.decode('ascii').copy()"
      ],
      "metadata": {
        "id": "51j8yAiGs5aW"
      },
      "execution_count": null,
      "outputs": []
    },
    {
      "cell_type": "code",
      "source": [
        "df[\"narrator\"][87192]"
      ],
      "metadata": {
        "colab": {
          "base_uri": "https://localhost:8080/",
          "height": 35
        },
        "id": "_AQktPtWNtRc",
        "outputId": "20a540ec-f3bb-4c4b-984d-544fa76a7910"
      },
      "execution_count": null,
      "outputs": [
        {
          "output_type": "execute_result",
          "data": {
            "text/plain": [
              "'Narratedby:'"
            ],
            "application/vnd.google.colaboratory.intrinsic+json": {
              "type": "string"
            }
          },
          "metadata": {},
          "execution_count": 15
        }
      ]
    },
    {
      "cell_type": "code",
      "source": [
        "df.isnull().sum()"
      ],
      "metadata": {
        "colab": {
          "base_uri": "https://localhost:8080/"
        },
        "id": "USM24CI3_Ima",
        "outputId": "cac6234f-46c0-42c2-d011-cba89eb5eabf"
      },
      "execution_count": null,
      "outputs": [
        {
          "output_type": "execute_result",
          "data": {
            "text/plain": [
              "name             53\n",
              "author            0\n",
              "narrator          0\n",
              "time              0\n",
              "releasedate       0\n",
              "language          0\n",
              "price             0\n",
              "total_ratings     0\n",
              "avg_stars         0\n",
              "dtype: int64"
            ]
          },
          "metadata": {},
          "execution_count": 16
        }
      ]
    },
    {
      "cell_type": "code",
      "source": [
        "# now remove the NaN values of the \"name\" column with the old ones\n",
        "for index in nan_created_values.index:\n",
        "    df[\"name\"][index] = nan_created_values[\"name\"][index]"
      ],
      "metadata": {
        "colab": {
          "base_uri": "https://localhost:8080/"
        },
        "id": "K9cLMI4lBMNj",
        "outputId": "1ef2f691-5c80-4a04-cf2e-c1ca271a32ef"
      },
      "execution_count": null,
      "outputs": [
        {
          "output_type": "stream",
          "name": "stderr",
          "text": [
            "<ipython-input-17-d681368b0f13>:3: SettingWithCopyWarning: \n",
            "A value is trying to be set on a copy of a slice from a DataFrame\n",
            "\n",
            "See the caveats in the documentation: https://pandas.pydata.org/pandas-docs/stable/user_guide/indexing.html#returning-a-view-versus-a-copy\n",
            "  df[\"name\"][index] = nan_created_values[\"name\"][index]\n"
          ]
        }
      ]
    },
    {
      "cell_type": "code",
      "source": [
        "df.isnull().sum()"
      ],
      "metadata": {
        "colab": {
          "base_uri": "https://localhost:8080/"
        },
        "id": "6OFT6eyWBtmu",
        "outputId": "2c14e381-3add-48a3-d44d-86182cbfc867"
      },
      "execution_count": null,
      "outputs": [
        {
          "output_type": "execute_result",
          "data": {
            "text/plain": [
              "name             0\n",
              "author           0\n",
              "narrator         0\n",
              "time             0\n",
              "releasedate      0\n",
              "language         0\n",
              "price            0\n",
              "total_ratings    0\n",
              "avg_stars        0\n",
              "dtype: int64"
            ]
          },
          "metadata": {},
          "execution_count": 18
        }
      ]
    },
    {
      "cell_type": "code",
      "source": [
        "# again NaN values will be created when you will gp to remove the versions from the \"name\" col.\n",
        "# So, again will be same strategy, first will store those records which will become to NaN.\n",
        "# After the operation, we will replace those NaN values with the old ones\n",
        "book_version_pattern = re.compile(r\"(\\s#?\\d+\\s?(&|and)?\\s?#?(\\d+)?)|(:?,?\\sBooks?\\s\\d+\\s?-?(\\d+)?)\")\n",
        "nan_books_version = df[df[\"name\"].str.replace(book_version_pattern, \"\").isnull()]"
      ],
      "metadata": {
        "id": "9QWHHlT1DaJs"
      },
      "execution_count": null,
      "outputs": []
    },
    {
      "cell_type": "code",
      "source": [
        "# remove the versions from the \"name\"\n",
        "book_version_pattern = re.compile(r\"(\\s#?\\d+\\s?(&|and)?\\s?#?(\\d+)?)|(:?,?\\sBooks?\\s\\d+\\s?-?(\\d+)?)\")\n",
        "df[\"name\"] = df[\"name\"].str.replace(book_version_pattern, \"\").copy()"
      ],
      "metadata": {
        "id": "9hRGZjmz1xeZ"
      },
      "execution_count": null,
      "outputs": []
    },
    {
      "cell_type": "code",
      "source": [
        "df.isnull().sum()"
      ],
      "metadata": {
        "colab": {
          "base_uri": "https://localhost:8080/"
        },
        "id": "fhs3_tOVDExL",
        "outputId": "cc431bfe-c804-4b27-b8d8-a3120940e685"
      },
      "execution_count": null,
      "outputs": [
        {
          "output_type": "execute_result",
          "data": {
            "text/plain": [
              "name             53\n",
              "author            0\n",
              "narrator          0\n",
              "time              0\n",
              "releasedate       0\n",
              "language          0\n",
              "price             0\n",
              "total_ratings     0\n",
              "avg_stars         0\n",
              "dtype: int64"
            ]
          },
          "metadata": {},
          "execution_count": 21
        }
      ]
    },
    {
      "cell_type": "code",
      "source": [
        "for index in nan_books_version.index:\n",
        "    df[\"name\"][index] = nan_books_version[\"name\"][index]"
      ],
      "metadata": {
        "colab": {
          "base_uri": "https://localhost:8080/"
        },
        "id": "WYQwXarVEhPm",
        "outputId": "48186ef8-c257-4d37-ce89-8dc0af0bb1f8"
      },
      "execution_count": null,
      "outputs": [
        {
          "output_type": "stream",
          "name": "stderr",
          "text": [
            "<ipython-input-22-f50dc24eef62>:2: SettingWithCopyWarning: \n",
            "A value is trying to be set on a copy of a slice from a DataFrame\n",
            "\n",
            "See the caveats in the documentation: https://pandas.pydata.org/pandas-docs/stable/user_guide/indexing.html#returning-a-view-versus-a-copy\n",
            "  df[\"name\"][index] = nan_books_version[\"name\"][index]\n"
          ]
        }
      ]
    },
    {
      "cell_type": "code",
      "source": [
        "df.isnull().sum()"
      ],
      "metadata": {
        "colab": {
          "base_uri": "https://localhost:8080/"
        },
        "id": "FRaL5s9ZFGQy",
        "outputId": "82567d4d-de3f-4828-f304-96d55eba0b26"
      },
      "execution_count": null,
      "outputs": [
        {
          "output_type": "execute_result",
          "data": {
            "text/plain": [
              "name             0\n",
              "author           0\n",
              "narrator         0\n",
              "time             0\n",
              "releasedate      0\n",
              "language         0\n",
              "price            0\n",
              "total_ratings    0\n",
              "avg_stars        0\n",
              "dtype: int64"
            ]
          },
          "metadata": {},
          "execution_count": 23
        }
      ]
    },
    {
      "cell_type": "code",
      "source": [
        "# remove prefix \"Writtenby:\" & \"Narratedby:\" from \"author\" & \"narrator\" columns\n",
        "df[\"narrator\"] = df[\"narrator\"].str.replace(\"Narratedby:\", \"\").copy()\n",
        "df[\"author\"]   = df[\"author\"].str.replace(\"Writtenby:\", \"\").copy()"
      ],
      "metadata": {
        "id": "tbV8F9A_5dex"
      },
      "execution_count": null,
      "outputs": []
    },
    {
      "cell_type": "code",
      "source": [
        "# replace the \"uncredited\" from the \"narrator\" col with NaN value\n",
        "df[\"narrator\"] = df[\"narrator\"].replace(\"uncredited\", np.NaN).copy()"
      ],
      "metadata": {
        "id": "VhfZ5KS-9CPC"
      },
      "execution_count": null,
      "outputs": []
    },
    {
      "cell_type": "code",
      "source": [
        "# split those values which have 2 or more author or narrator\n",
        "df[\"author\"] = df[\"author\"].apply(lambda x: x.split(\",\") if \",\" in x else [x]).copy()\n",
        "df[\"narrator\"] = df[\"narrator\"].apply(lambda x: x if pd.isna(x) else x.split(\",\") if \",\" in x else [x]).copy()"
      ],
      "metadata": {
        "id": "QfbKXHuA6KVq"
      },
      "execution_count": null,
      "outputs": []
    },
    {
      "cell_type": "code",
      "source": [
        "df.isnull().sum()"
      ],
      "metadata": {
        "colab": {
          "base_uri": "https://localhost:8080/"
        },
        "id": "rZa7rxEv6jX5",
        "outputId": "5ec224c7-947e-4eea-d658-5698342c8eff"
      },
      "execution_count": null,
      "outputs": [
        {
          "output_type": "execute_result",
          "data": {
            "text/plain": [
              "name               0\n",
              "author             0\n",
              "narrator         326\n",
              "time               0\n",
              "releasedate        0\n",
              "language           0\n",
              "price              0\n",
              "total_ratings      0\n",
              "avg_stars          0\n",
              "dtype: int64"
            ]
          },
          "metadata": {},
          "execution_count": 27
        }
      ]
    },
    {
      "cell_type": "code",
      "source": [
        "# remove the more informations from the \"author\" col because most of the values\n",
        "# has no such info. Also, while modifying this col before, some blank strings\n",
        "# (e.g. record no. 77) created. That strings will be removed here. Also, here\n",
        "# will separate the first name and the last names. Previously those are not\n",
        "# separated with a white space.\n",
        "\n",
        "def separate_first_last_name(text):\n",
        "    # create the regex pattern\n",
        "    pattern = re.compile(r\"[A-Z]+[a-z]+\")\n",
        "    # join the first & last name with a white space and return it\n",
        "    return \" \".join(re.findall(pattern, text))\n",
        "\n",
        "def remove_more_info(text_list: list):\n",
        "    if type(text_list) != list and pd.isna(text_list):\n",
        "        return text_list\n",
        "\n",
        "    # create the re pattern to remove the more info\n",
        "    pattern = re.compile(r\"-\\w+\")\n",
        "    result = []\n",
        "\n",
        "    # loop through the each values\n",
        "    for item in text_list:\n",
        "        # remove the empty string\n",
        "        if len(item) != 0:\n",
        "            # remove the more info\n",
        "            re_result = re.sub(pattern, \"\", item)\n",
        "            # separate the first and the last name\n",
        "            result.append(separate_first_last_name(re_result))\n",
        "\n",
        "    # if the result list is empty, then return NaN or return as it is\n",
        "    return np.nan if len(result) <= 0 else result"
      ],
      "metadata": {
        "id": "bG3zQtAWH8dU"
      },
      "execution_count": null,
      "outputs": []
    },
    {
      "cell_type": "code",
      "source": [
        "df[\"author\"]   = df[\"author\"].apply(lambda x: remove_more_info(x)).copy()\n",
        "df[\"narrator\"] = df[\"narrator\"].apply(lambda x: remove_more_info(x)).copy()"
      ],
      "metadata": {
        "id": "QgB7DMcRMNf9"
      },
      "execution_count": null,
      "outputs": []
    },
    {
      "cell_type": "code",
      "source": [
        "df.head()"
      ],
      "metadata": {
        "colab": {
          "base_uri": "https://localhost:8080/",
          "height": 206
        },
        "id": "gzDMYSHJPbwT",
        "outputId": "663da242-1d8c-41d0-a22e-bdf37c94222b"
      },
      "execution_count": null,
      "outputs": [
        {
          "output_type": "execute_result",
          "data": {
            "text/plain": [
              "                                 name              author           narrator  \\\n",
              "0                    Geronimo Stilton  [Geronimo Stilton]      [Bill Lobely]   \n",
              "1                    The Burning Maze      [Rick Riordan]   [Robbie Daymond]   \n",
              "2                        The Deep End       [Jeff Kinney]      [Dan Russell]   \n",
              "3                Daughter of the Deep      [Rick Riordan]  [Soneela Nankani]   \n",
              "4  The Lightning Thief: Percy Jackson      [Rick Riordan]  [Jesse Bernstein]   \n",
              "\n",
              "   time releasedate language  price  total_ratings  avg_stars  \n",
              "0   140  2008-04-08  English  468.0             34        5.0  \n",
              "1   788  2018-01-05  English  820.0             41        4.5  \n",
              "2   123  2020-06-11  English  410.0             38        4.5  \n",
              "3   676  2021-05-10  English  615.0             12        4.5  \n",
              "4   600  2010-01-13  English  820.0            181        4.5  "
            ],
            "text/html": [
              "\n",
              "  <div id=\"df-befecee1-fb27-47ff-afda-bd8662c25fac\">\n",
              "    <div class=\"colab-df-container\">\n",
              "      <div>\n",
              "<style scoped>\n",
              "    .dataframe tbody tr th:only-of-type {\n",
              "        vertical-align: middle;\n",
              "    }\n",
              "\n",
              "    .dataframe tbody tr th {\n",
              "        vertical-align: top;\n",
              "    }\n",
              "\n",
              "    .dataframe thead th {\n",
              "        text-align: right;\n",
              "    }\n",
              "</style>\n",
              "<table border=\"1\" class=\"dataframe\">\n",
              "  <thead>\n",
              "    <tr style=\"text-align: right;\">\n",
              "      <th></th>\n",
              "      <th>name</th>\n",
              "      <th>author</th>\n",
              "      <th>narrator</th>\n",
              "      <th>time</th>\n",
              "      <th>releasedate</th>\n",
              "      <th>language</th>\n",
              "      <th>price</th>\n",
              "      <th>total_ratings</th>\n",
              "      <th>avg_stars</th>\n",
              "    </tr>\n",
              "  </thead>\n",
              "  <tbody>\n",
              "    <tr>\n",
              "      <th>0</th>\n",
              "      <td>Geronimo Stilton</td>\n",
              "      <td>[Geronimo Stilton]</td>\n",
              "      <td>[Bill Lobely]</td>\n",
              "      <td>140</td>\n",
              "      <td>2008-04-08</td>\n",
              "      <td>English</td>\n",
              "      <td>468.0</td>\n",
              "      <td>34</td>\n",
              "      <td>5.0</td>\n",
              "    </tr>\n",
              "    <tr>\n",
              "      <th>1</th>\n",
              "      <td>The Burning Maze</td>\n",
              "      <td>[Rick Riordan]</td>\n",
              "      <td>[Robbie Daymond]</td>\n",
              "      <td>788</td>\n",
              "      <td>2018-01-05</td>\n",
              "      <td>English</td>\n",
              "      <td>820.0</td>\n",
              "      <td>41</td>\n",
              "      <td>4.5</td>\n",
              "    </tr>\n",
              "    <tr>\n",
              "      <th>2</th>\n",
              "      <td>The Deep End</td>\n",
              "      <td>[Jeff Kinney]</td>\n",
              "      <td>[Dan Russell]</td>\n",
              "      <td>123</td>\n",
              "      <td>2020-06-11</td>\n",
              "      <td>English</td>\n",
              "      <td>410.0</td>\n",
              "      <td>38</td>\n",
              "      <td>4.5</td>\n",
              "    </tr>\n",
              "    <tr>\n",
              "      <th>3</th>\n",
              "      <td>Daughter of the Deep</td>\n",
              "      <td>[Rick Riordan]</td>\n",
              "      <td>[Soneela Nankani]</td>\n",
              "      <td>676</td>\n",
              "      <td>2021-05-10</td>\n",
              "      <td>English</td>\n",
              "      <td>615.0</td>\n",
              "      <td>12</td>\n",
              "      <td>4.5</td>\n",
              "    </tr>\n",
              "    <tr>\n",
              "      <th>4</th>\n",
              "      <td>The Lightning Thief: Percy Jackson</td>\n",
              "      <td>[Rick Riordan]</td>\n",
              "      <td>[Jesse Bernstein]</td>\n",
              "      <td>600</td>\n",
              "      <td>2010-01-13</td>\n",
              "      <td>English</td>\n",
              "      <td>820.0</td>\n",
              "      <td>181</td>\n",
              "      <td>4.5</td>\n",
              "    </tr>\n",
              "  </tbody>\n",
              "</table>\n",
              "</div>\n",
              "      <button class=\"colab-df-convert\" onclick=\"convertToInteractive('df-befecee1-fb27-47ff-afda-bd8662c25fac')\"\n",
              "              title=\"Convert this dataframe to an interactive table.\"\n",
              "              style=\"display:none;\">\n",
              "        \n",
              "  <svg xmlns=\"http://www.w3.org/2000/svg\" height=\"24px\"viewBox=\"0 0 24 24\"\n",
              "       width=\"24px\">\n",
              "    <path d=\"M0 0h24v24H0V0z\" fill=\"none\"/>\n",
              "    <path d=\"M18.56 5.44l.94 2.06.94-2.06 2.06-.94-2.06-.94-.94-2.06-.94 2.06-2.06.94zm-11 1L8.5 8.5l.94-2.06 2.06-.94-2.06-.94L8.5 2.5l-.94 2.06-2.06.94zm10 10l.94 2.06.94-2.06 2.06-.94-2.06-.94-.94-2.06-.94 2.06-2.06.94z\"/><path d=\"M17.41 7.96l-1.37-1.37c-.4-.4-.92-.59-1.43-.59-.52 0-1.04.2-1.43.59L10.3 9.45l-7.72 7.72c-.78.78-.78 2.05 0 2.83L4 21.41c.39.39.9.59 1.41.59.51 0 1.02-.2 1.41-.59l7.78-7.78 2.81-2.81c.8-.78.8-2.07 0-2.86zM5.41 20L4 18.59l7.72-7.72 1.47 1.35L5.41 20z\"/>\n",
              "  </svg>\n",
              "      </button>\n",
              "      \n",
              "  <style>\n",
              "    .colab-df-container {\n",
              "      display:flex;\n",
              "      flex-wrap:wrap;\n",
              "      gap: 12px;\n",
              "    }\n",
              "\n",
              "    .colab-df-convert {\n",
              "      background-color: #E8F0FE;\n",
              "      border: none;\n",
              "      border-radius: 50%;\n",
              "      cursor: pointer;\n",
              "      display: none;\n",
              "      fill: #1967D2;\n",
              "      height: 32px;\n",
              "      padding: 0 0 0 0;\n",
              "      width: 32px;\n",
              "    }\n",
              "\n",
              "    .colab-df-convert:hover {\n",
              "      background-color: #E2EBFA;\n",
              "      box-shadow: 0px 1px 2px rgba(60, 64, 67, 0.3), 0px 1px 3px 1px rgba(60, 64, 67, 0.15);\n",
              "      fill: #174EA6;\n",
              "    }\n",
              "\n",
              "    [theme=dark] .colab-df-convert {\n",
              "      background-color: #3B4455;\n",
              "      fill: #D2E3FC;\n",
              "    }\n",
              "\n",
              "    [theme=dark] .colab-df-convert:hover {\n",
              "      background-color: #434B5C;\n",
              "      box-shadow: 0px 1px 3px 1px rgba(0, 0, 0, 0.15);\n",
              "      filter: drop-shadow(0px 1px 2px rgba(0, 0, 0, 0.3));\n",
              "      fill: #FFFFFF;\n",
              "    }\n",
              "  </style>\n",
              "\n",
              "      <script>\n",
              "        const buttonEl =\n",
              "          document.querySelector('#df-befecee1-fb27-47ff-afda-bd8662c25fac button.colab-df-convert');\n",
              "        buttonEl.style.display =\n",
              "          google.colab.kernel.accessAllowed ? 'block' : 'none';\n",
              "\n",
              "        async function convertToInteractive(key) {\n",
              "          const element = document.querySelector('#df-befecee1-fb27-47ff-afda-bd8662c25fac');\n",
              "          const dataTable =\n",
              "            await google.colab.kernel.invokeFunction('convertToInteractive',\n",
              "                                                     [key], {});\n",
              "          if (!dataTable) return;\n",
              "\n",
              "          const docLinkHtml = 'Like what you see? Visit the ' +\n",
              "            '<a target=\"_blank\" href=https://colab.research.google.com/notebooks/data_table.ipynb>data table notebook</a>'\n",
              "            + ' to learn more about interactive tables.';\n",
              "          element.innerHTML = '';\n",
              "          dataTable['output_type'] = 'display_data';\n",
              "          await google.colab.output.renderOutput(dataTable, element);\n",
              "          const docLink = document.createElement('div');\n",
              "          docLink.innerHTML = docLinkHtml;\n",
              "          element.appendChild(docLink);\n",
              "        }\n",
              "      </script>\n",
              "    </div>\n",
              "  </div>\n",
              "  "
            ]
          },
          "metadata": {},
          "execution_count": 30
        }
      ]
    },
    {
      "cell_type": "code",
      "source": [
        "df.info()"
      ],
      "metadata": {
        "colab": {
          "base_uri": "https://localhost:8080/"
        },
        "id": "XdNgE8s_R10d",
        "outputId": "43117384-e2b2-44a3-9307-711e682add39"
      },
      "execution_count": null,
      "outputs": [
        {
          "output_type": "stream",
          "name": "stdout",
          "text": [
            "<class 'pandas.core.frame.DataFrame'>\n",
            "RangeIndex: 87489 entries, 0 to 87488\n",
            "Data columns (total 9 columns):\n",
            " #   Column         Non-Null Count  Dtype         \n",
            "---  ------         --------------  -----         \n",
            " 0   name           87489 non-null  object        \n",
            " 1   author         84180 non-null  object        \n",
            " 2   narrator       83421 non-null  object        \n",
            " 3   time           87489 non-null  int64         \n",
            " 4   releasedate    87489 non-null  datetime64[ns]\n",
            " 5   language       87489 non-null  object        \n",
            " 6   price          87489 non-null  float64       \n",
            " 7   total_ratings  87489 non-null  int64         \n",
            " 8   avg_stars      87489 non-null  float64       \n",
            "dtypes: datetime64[ns](1), float64(2), int64(2), object(4)\n",
            "memory usage: 6.0+ MB\n"
          ]
        }
      ]
    },
    {
      "cell_type": "code",
      "source": [
        "# ok, for now it is done. For further use or analysis, you have to save the cleaned\n",
        "# dataframe. We will not use the csv format to save because it takes more disk\n",
        "# space and also the csv file can't retain the dtypes of the features of your\n",
        "# dataframe. So you can store this file in one of these file formats: pickle,\n",
        "# feather and parquet. Here I am using the pickle format.\n",
        "df.to_pickle(\"audiable_cleaned.pickle\")"
      ],
      "metadata": {
        "id": "zPvUZK1ER5tc"
      },
      "execution_count": null,
      "outputs": []
    },
    {
      "cell_type": "code",
      "source": [
        "# below syntax is to read the pickle file in pandas.\n",
        "pd.read_pickle(\"audiable_cleaned.pickle\").head()"
      ],
      "metadata": {
        "colab": {
          "base_uri": "https://localhost:8080/",
          "height": 206
        },
        "id": "QUK5Hb6QToGd",
        "outputId": "d9476c73-1158-480e-e55b-455c5274603e"
      },
      "execution_count": null,
      "outputs": [
        {
          "output_type": "execute_result",
          "data": {
            "text/plain": [
              "                                 name              author           narrator  \\\n",
              "0                    Geronimo Stilton  [Geronimo Stilton]      [Bill Lobely]   \n",
              "1                    The Burning Maze      [Rick Riordan]   [Robbie Daymond]   \n",
              "2                        The Deep End       [Jeff Kinney]      [Dan Russell]   \n",
              "3                Daughter of the Deep      [Rick Riordan]  [Soneela Nankani]   \n",
              "4  The Lightning Thief: Percy Jackson      [Rick Riordan]  [Jesse Bernstein]   \n",
              "\n",
              "   time releasedate language  price  total_ratings  avg_stars  \n",
              "0   140  2008-04-08  English  468.0             34        5.0  \n",
              "1   788  2018-01-05  English  820.0             41        4.5  \n",
              "2   123  2020-06-11  English  410.0             38        4.5  \n",
              "3   676  2021-05-10  English  615.0             12        4.5  \n",
              "4   600  2010-01-13  English  820.0            181        4.5  "
            ],
            "text/html": [
              "\n",
              "  <div id=\"df-21243fb6-05fb-4668-99cd-b15991232dbb\">\n",
              "    <div class=\"colab-df-container\">\n",
              "      <div>\n",
              "<style scoped>\n",
              "    .dataframe tbody tr th:only-of-type {\n",
              "        vertical-align: middle;\n",
              "    }\n",
              "\n",
              "    .dataframe tbody tr th {\n",
              "        vertical-align: top;\n",
              "    }\n",
              "\n",
              "    .dataframe thead th {\n",
              "        text-align: right;\n",
              "    }\n",
              "</style>\n",
              "<table border=\"1\" class=\"dataframe\">\n",
              "  <thead>\n",
              "    <tr style=\"text-align: right;\">\n",
              "      <th></th>\n",
              "      <th>name</th>\n",
              "      <th>author</th>\n",
              "      <th>narrator</th>\n",
              "      <th>time</th>\n",
              "      <th>releasedate</th>\n",
              "      <th>language</th>\n",
              "      <th>price</th>\n",
              "      <th>total_ratings</th>\n",
              "      <th>avg_stars</th>\n",
              "    </tr>\n",
              "  </thead>\n",
              "  <tbody>\n",
              "    <tr>\n",
              "      <th>0</th>\n",
              "      <td>Geronimo Stilton</td>\n",
              "      <td>[Geronimo Stilton]</td>\n",
              "      <td>[Bill Lobely]</td>\n",
              "      <td>140</td>\n",
              "      <td>2008-04-08</td>\n",
              "      <td>English</td>\n",
              "      <td>468.0</td>\n",
              "      <td>34</td>\n",
              "      <td>5.0</td>\n",
              "    </tr>\n",
              "    <tr>\n",
              "      <th>1</th>\n",
              "      <td>The Burning Maze</td>\n",
              "      <td>[Rick Riordan]</td>\n",
              "      <td>[Robbie Daymond]</td>\n",
              "      <td>788</td>\n",
              "      <td>2018-01-05</td>\n",
              "      <td>English</td>\n",
              "      <td>820.0</td>\n",
              "      <td>41</td>\n",
              "      <td>4.5</td>\n",
              "    </tr>\n",
              "    <tr>\n",
              "      <th>2</th>\n",
              "      <td>The Deep End</td>\n",
              "      <td>[Jeff Kinney]</td>\n",
              "      <td>[Dan Russell]</td>\n",
              "      <td>123</td>\n",
              "      <td>2020-06-11</td>\n",
              "      <td>English</td>\n",
              "      <td>410.0</td>\n",
              "      <td>38</td>\n",
              "      <td>4.5</td>\n",
              "    </tr>\n",
              "    <tr>\n",
              "      <th>3</th>\n",
              "      <td>Daughter of the Deep</td>\n",
              "      <td>[Rick Riordan]</td>\n",
              "      <td>[Soneela Nankani]</td>\n",
              "      <td>676</td>\n",
              "      <td>2021-05-10</td>\n",
              "      <td>English</td>\n",
              "      <td>615.0</td>\n",
              "      <td>12</td>\n",
              "      <td>4.5</td>\n",
              "    </tr>\n",
              "    <tr>\n",
              "      <th>4</th>\n",
              "      <td>The Lightning Thief: Percy Jackson</td>\n",
              "      <td>[Rick Riordan]</td>\n",
              "      <td>[Jesse Bernstein]</td>\n",
              "      <td>600</td>\n",
              "      <td>2010-01-13</td>\n",
              "      <td>English</td>\n",
              "      <td>820.0</td>\n",
              "      <td>181</td>\n",
              "      <td>4.5</td>\n",
              "    </tr>\n",
              "  </tbody>\n",
              "</table>\n",
              "</div>\n",
              "      <button class=\"colab-df-convert\" onclick=\"convertToInteractive('df-21243fb6-05fb-4668-99cd-b15991232dbb')\"\n",
              "              title=\"Convert this dataframe to an interactive table.\"\n",
              "              style=\"display:none;\">\n",
              "        \n",
              "  <svg xmlns=\"http://www.w3.org/2000/svg\" height=\"24px\"viewBox=\"0 0 24 24\"\n",
              "       width=\"24px\">\n",
              "    <path d=\"M0 0h24v24H0V0z\" fill=\"none\"/>\n",
              "    <path d=\"M18.56 5.44l.94 2.06.94-2.06 2.06-.94-2.06-.94-.94-2.06-.94 2.06-2.06.94zm-11 1L8.5 8.5l.94-2.06 2.06-.94-2.06-.94L8.5 2.5l-.94 2.06-2.06.94zm10 10l.94 2.06.94-2.06 2.06-.94-2.06-.94-.94-2.06-.94 2.06-2.06.94z\"/><path d=\"M17.41 7.96l-1.37-1.37c-.4-.4-.92-.59-1.43-.59-.52 0-1.04.2-1.43.59L10.3 9.45l-7.72 7.72c-.78.78-.78 2.05 0 2.83L4 21.41c.39.39.9.59 1.41.59.51 0 1.02-.2 1.41-.59l7.78-7.78 2.81-2.81c.8-.78.8-2.07 0-2.86zM5.41 20L4 18.59l7.72-7.72 1.47 1.35L5.41 20z\"/>\n",
              "  </svg>\n",
              "      </button>\n",
              "      \n",
              "  <style>\n",
              "    .colab-df-container {\n",
              "      display:flex;\n",
              "      flex-wrap:wrap;\n",
              "      gap: 12px;\n",
              "    }\n",
              "\n",
              "    .colab-df-convert {\n",
              "      background-color: #E8F0FE;\n",
              "      border: none;\n",
              "      border-radius: 50%;\n",
              "      cursor: pointer;\n",
              "      display: none;\n",
              "      fill: #1967D2;\n",
              "      height: 32px;\n",
              "      padding: 0 0 0 0;\n",
              "      width: 32px;\n",
              "    }\n",
              "\n",
              "    .colab-df-convert:hover {\n",
              "      background-color: #E2EBFA;\n",
              "      box-shadow: 0px 1px 2px rgba(60, 64, 67, 0.3), 0px 1px 3px 1px rgba(60, 64, 67, 0.15);\n",
              "      fill: #174EA6;\n",
              "    }\n",
              "\n",
              "    [theme=dark] .colab-df-convert {\n",
              "      background-color: #3B4455;\n",
              "      fill: #D2E3FC;\n",
              "    }\n",
              "\n",
              "    [theme=dark] .colab-df-convert:hover {\n",
              "      background-color: #434B5C;\n",
              "      box-shadow: 0px 1px 3px 1px rgba(0, 0, 0, 0.15);\n",
              "      filter: drop-shadow(0px 1px 2px rgba(0, 0, 0, 0.3));\n",
              "      fill: #FFFFFF;\n",
              "    }\n",
              "  </style>\n",
              "\n",
              "      <script>\n",
              "        const buttonEl =\n",
              "          document.querySelector('#df-21243fb6-05fb-4668-99cd-b15991232dbb button.colab-df-convert');\n",
              "        buttonEl.style.display =\n",
              "          google.colab.kernel.accessAllowed ? 'block' : 'none';\n",
              "\n",
              "        async function convertToInteractive(key) {\n",
              "          const element = document.querySelector('#df-21243fb6-05fb-4668-99cd-b15991232dbb');\n",
              "          const dataTable =\n",
              "            await google.colab.kernel.invokeFunction('convertToInteractive',\n",
              "                                                     [key], {});\n",
              "          if (!dataTable) return;\n",
              "\n",
              "          const docLinkHtml = 'Like what you see? Visit the ' +\n",
              "            '<a target=\"_blank\" href=https://colab.research.google.com/notebooks/data_table.ipynb>data table notebook</a>'\n",
              "            + ' to learn more about interactive tables.';\n",
              "          element.innerHTML = '';\n",
              "          dataTable['output_type'] = 'display_data';\n",
              "          await google.colab.output.renderOutput(dataTable, element);\n",
              "          const docLink = document.createElement('div');\n",
              "          docLink.innerHTML = docLinkHtml;\n",
              "          element.appendChild(docLink);\n",
              "        }\n",
              "      </script>\n",
              "    </div>\n",
              "  </div>\n",
              "  "
            ]
          },
          "metadata": {},
          "execution_count": 33
        }
      ]
    },
    {
      "cell_type": "code",
      "source": [],
      "metadata": {
        "id": "DnRTZ-yRTteU"
      },
      "execution_count": null,
      "outputs": []
    }
  ]
}